{
 "cells": [
  {
   "cell_type": "code",
   "execution_count": null,
   "metadata": {},
   "outputs": [],
   "source": [
    "from getpass import getpass\n",
    "\n",
    "DASHSCOPE_API_KEY = getpass()\n",
    "\n",
    "import os\n",
    "os.environ[\"DASHSCOPE_API_KEY\"] = \"sk-cbcc1fb859b1456885a270eecbec6369\"\n"
   ]
  },
  {
   "cell_type": "code",
   "execution_count": 159,
   "metadata": {},
   "outputs": [],
   "source": [
    "database_config = {\n",
    "    \"host\": \"gz-cdb-5scrcjb5.sql.tencentcdb.com\",\n",
    "    \"user\": \"buildsensePublic\",\n",
    "    \"password\": \"buildsense905\",\n",
    "    \"database\": \"sele\",\n",
    "    \"port\": 63432\n",
    "}\n",
    "\n",
    "\n",
    "from sqlalchemy import create_engine\n",
    "# 构建数据库连接URL\n",
    "db_url = f\"mysql+mysqlconnector://{database_config['user']}:{database_config['password']}@{database_config['host']}:{database_config['port']}/{database_config['database']}\"\n",
    "# 创建SQLAlchemy引擎\n",
    "engine = create_engine(db_url)\n",
    "\n",
    "from langchain_community.utilities.sql_database import SQLDatabase\n",
    "\n",
    "# 连接数据库\n",
    "sql_database = SQLDatabase(engine)\n",
    "\n",
    "# from langchain_openai.chat_models.base import ChatOpenAI\n",
    "\n",
    "# llm = ChatOpenAI(\n",
    "#     temperature=0.1,\n",
    "#     openai_api_base=\"https://dashscope.aliyuncs.com/compatible-mode/v1\",\n",
    "#     openai_api_key=\"sk-cbcc1fb859b1456885a270eecbec6369\",\n",
    "#     model_name=\"qwen-turbo\"\n",
    "# )\n",
    "\n",
    "\n",
    "from langchain_community.llms import Tongyi\n",
    "llm = Tongyi(\n",
    "    model_name=\"qwen-turbo\", \n",
    "    temperature=0.2,\n",
    "    dashscope_api_key=\"sk-cbcc1fb859b1456885a270eecbec6369\"\n",
    ")\n",
    "\n",
    "\n",
    "from langchain_community.agent_toolkits import create_sql_agent\n",
    "from langchain_community.agent_toolkits.sql.toolkit import SQLDatabaseToolkit\n",
    "\n",
    "# 创建SQLDatabaseToolkit\n",
    "toolkit = SQLDatabaseToolkit(llm=llm, db=sql_database)\n",
    "\n",
    "\n",
    "# 创建SQL Agent ,openai-tools\n",
    "sql_agent = create_sql_agent(llm, toolkit, agent_type=\"zero-shot-react-description\", verbose=True)\n",
    "\n"
   ]
  },
  {
   "cell_type": "code",
   "execution_count": null,
   "metadata": {},
   "outputs": [],
   "source": [
    "from langchain_core.prompts import (\n",
    "    ChatPromptTemplate,\n",
    "    FewShotPromptTemplate,\n",
    "    MessagesPlaceholder,\n",
    "    PromptTemplate,\n",
    "    SystemMessagePromptTemplate,\n",
    ")\n",
    "\n",
    "prefix = \"\"\"\n",
    "您是一位旨在与SQL数据库交互的代理。\n",
    "\n",
    "面对输入的问题,创建一个语法正确的MySQL查询以执行。\n",
    "查看查询结果,并返回答案。\n",
    "除非用户指定了希望获取的具体样本数量,否则查询结果限制为最多10条。\n",
    "您可以根据相关列对结果进行排序,以返回数据库中最有趣的示例。\n",
    "不要从特定表中查询所有列,仅根据问题需求请求相关列。\n",
    "您可以使用与数据库交互的工具,且仅限于使用这些工具。\n",
    "构建最终答案时,仅依据这些工具返回的信息。\n",
    "执行查询前,您必须仔细检查您的查询语句。如果查询时遇到错误,重新编写查询并重试。\n",
    "切勿对数据库做出任何DML操作(如INSERT, UPDATE, DELETE, DROP等)。\n",
    "如果问题似乎与数据库无关,则直接回答\"我不知道\"。\n",
    "\"\"\"\n",
    "\n",
    "suffix = \"\"\"\n",
    "使用以下格式：\n",
    "\n",
    "问题：你需要回答的输入问题\n",
    "思考：你应该总是思考接下来该做什么\n",
    "行动：要采取的行动，应该是以下工具之一 [{tool_names}]\n",
    "行动输入：对行动的输入\n",
    "观察：行动的结果\n",
    "...（这个思考/行动/行动输入/观察可以重复N次）\n",
    "思考：我现在知道了最终的答案\n",
    "最终答案：对原始输入问题的最终回答\n",
    "\n",
    "开始！\n",
    "\n",
    "问题：{input}\n",
    "思考：{agent_scratchpad}'\n",
    "\n",
    "\"\"\"\n",
    "\n",
    "example_prompt = PromptTemplate(\n",
    "    input_variables=[\"input\", \"query\"],\n",
    "    template=\"Human: {input}\\nAction: sql_query\\nAction Input: {query}\",\n",
    ")\n",
    "\n",
    "few_shot_prompt = FewShotPromptTemplate(\n",
    "    prefix=prefix,\n",
    "    suffix=suffix,\n",
    "    example_prompt=example_prompt,\n",
    "    examples=[\n",
    "        {\"input\": \"列出所有艺术家\", \"query\": \"SELECT * FROM Artist;\"},\n",
    "        {\"input\": \"找到艺术家'AC/DC'的所有专辑\", \"query\": \"SELECT * FROM Album WHERE ArtistId = (SELECT ArtistId FROM Artist WHERE Name = 'AC/DC');\"},\n",
    "    ],\n",
    "    input_variables=[\"input\"],\n",
    ")\n"
   ]
  },
  {
   "cell_type": "code",
   "execution_count": 170,
   "metadata": {},
   "outputs": [],
   "source": [
    "full_prompt = ChatPromptTemplate.from_messages(\n",
    "    [\n",
    "        SystemMessagePromptTemplate(prompt=few_shot_prompt),\n",
    "        (\"human\", \"{input}\"),\n",
    "        MessagesPlaceholder(\"agent_scratchpad\"),\n",
    "    ]\n",
    ")\n",
    "\n"
   ]
  },
  {
   "cell_type": "code",
   "execution_count": 172,
   "metadata": {},
   "outputs": [
    {
     "name": "stdout",
     "output_type": "stream",
     "text": [
      "System: \n",
      "您是一位旨在与SQL数据库交互的代理。\n",
      "\n",
      "面对输入的问题,创建一个语法正确的MySQL查询以执行。\n",
      "查看查询结果,并返回答案。\n",
      "除非用户指定了希望获取的具体样本数量,否则查询结果限制为最多10条。\n",
      "您可以根据相关列对结果进行排序,以返回数据库中最有趣的示例。\n",
      "不要从特定表中查询所有列,仅根据问题需求请求相关列。\n",
      "您可以使用与数据库交互的工具,且仅限于使用这些工具。\n",
      "构建最终答案时,仅依据这些工具返回的信息。\n",
      "执行查询前,您必须仔细检查您的查询语句。如果查询时遇到错误,重新编写查询并重试。\n",
      "切勿对数据库做出任何DML操作(如INSERT, UPDATE, DELETE, DROP等)。\n",
      "如果问题似乎与数据库无关,则直接回答\"我不知道\"。\n",
      "\n",
      "\n",
      "Human: 列出所有艺术家\n",
      "Action: sql_query\n",
      "Action Input: SELECT * FROM Artist;\n",
      "\n",
      "Human: 找到艺术家'AC/DC'的所有专辑\n",
      "Action: sql_query\n",
      "Action Input: SELECT * FROM Album WHERE ArtistId = (SELECT ArtistId FROM Artist WHERE Name = 'AC/DC');\n",
      "\n",
      "\n",
      "使用以下格式：\n",
      "\n",
      "问题：你需要回答的输入问题\n",
      "思考：你应该总是思考接下来该做什么\n",
      "行动：要采取的行动，应该是以下工具之一 [['sql_query']]\n",
      "行动输入：对行动的输入\n",
      "观察：行动的结果\n",
      "...（这个思考/行动/行动输入/观察可以重复N次）\n",
      "思考：我现在知道了最终的答案\n",
      "最终答案：对原始输入问题的最终回答\n",
      "\n",
      "开始！\n",
      "\n",
      "问题：How many arists are there\n",
      "思考：[]'\n",
      "\n",
      "\n",
      "Human: How many arists are there\n"
     ]
    }
   ],
   "source": [
    "# Example formatted prompt\n",
    "prompt_val = full_prompt.invoke(\n",
    "    {\n",
    "        \"input\": \"How many arists are there\",\n",
    "        \"tool_names\": [\"sql_query\"],\n",
    "        \"top_k\": 5,\n",
    "        \"dialect\": \"SQLite\",\n",
    "        \"agent_scratchpad\": [],\n",
    "    }\n",
    ")\n",
    "print(prompt_val.to_string())"
   ]
  },
  {
   "cell_type": "code",
   "execution_count": null,
   "metadata": {},
   "outputs": [],
   "source": [
    "# 使用Agent回答问题\n",
    "result = sql_agent.invoke(\"价格最高的十个招标公告\")\n"
   ]
  },
  {
   "cell_type": "code",
   "execution_count": 131,
   "metadata": {},
   "outputs": [],
   "source": [
    "\n",
    "from langchain_community.llms import Tongyi\n",
    "llm = Tongyi(temperature=0.1)\n"
   ]
  },
  {
   "cell_type": "code",
   "execution_count": 124,
   "metadata": {},
   "outputs": [
    {
     "data": {
      "text/plain": [
       "'Justin Bieber was born on March 1, 1994. The Super Bowl that year, Super Bowl XXVIII, was won by the Dallas Cowboys. They defeated the Buffalo Bills with a score of 30-13.'"
      ]
     },
     "execution_count": 124,
     "metadata": {},
     "output_type": "execute_result"
    }
   ],
   "source": [
    "llm.invoke(\"What NFL team won the Super Bowl in the year Justin Bieber was born?\")\n",
    "\n"
   ]
  },
  {
   "cell_type": "code",
   "execution_count": 115,
   "metadata": {},
   "outputs": [],
   "source": [
    "from langchain import hub\n",
    "from langchain.agents import AgentExecutor, create_tool_calling_agent\n",
    "from langchain_community.tools.tavily_search import TavilySearchResults\n",
    "from langchain_openai import ChatOpenAI\n",
    "\n",
    "import os\n",
    "\n",
    "# 设置 Tavily API 密钥\n",
    "os.environ[\"TAVILY_API_KEY\"] = \"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\"\n",
    "\n",
    "# export TAVILY_API_KEY={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}\n",
    "tools = [TavilySearchResults(max_results=1)]\n",
    "prompt = hub.pull(\"hwchase17/openai-tools-agent\")\n",
    "\n",
    "\n",
    "\n",
    "agent = create_tool_calling_agent(llm, tools, prompt)\n",
    "\n"
   ]
  },
  {
   "cell_type": "code",
   "execution_count": 116,
   "metadata": {},
   "outputs": [],
   "source": [
    "# Create an agent executor by passing in the agent and tools\n",
    "agent_executor = AgentExecutor(agent=agent, tools=tools, verbose=True)\n",
    "\n"
   ]
  },
  {
   "cell_type": "code",
   "execution_count": null,
   "metadata": {},
   "outputs": [],
   "source": [
    "from langchain_core.messages import AIMessage, HumanMessage\n",
    "\n",
    "agent_executor.invoke(\n",
    "    {\n",
    "        \"input\": \"what's my name? Don't use tools to look this up unless you NEED to\",\n",
    "        \"chat_history\": [\n",
    "            HumanMessage(content=\"hi! my name is bob\"),\n",
    "            AIMessage(content=\"Hello Bob! How can I assist you today?\"),\n",
    "        ],\n",
    "    }\n",
    ")\n",
    "\n",
    "\n"
   ]
  },
  {
   "cell_type": "code",
   "execution_count": 175,
   "metadata": {},
   "outputs": [],
   "source": [
    "from config import api_key_qwen\n",
    "from aiModel import QwenModel\n",
    "from ai import call_model\n",
    "\n",
    "\n",
    "def table_sum_agent(structure,samples):\n",
    "    tools = [\n",
    "        {\n",
    "        \"type\": \"function\",\n",
    "        \"function\": {\n",
    "            \"name\": \"save_summary\",\n",
    "            \"description\": \"将总结信息保存到数据库中。包对对整个表格以及每一列字段的总结。\",\n",
    "            \"parameters\": {\n",
    "                \"type\": \"object\",\n",
    "                \"properties\": {\n",
    "                    \"table_summary\": {\n",
    "                        \"description\": \"对表格功能用户的一句话总结\",\n",
    "                        \"type\": \"string\"\n",
    "                    },\n",
    "                        \"column_summaries\": {\n",
    "                        \"description\": \"\"\"\n",
    "                        对每一个字段的一个总结，{\n",
    "                            \"column1_name\": \"Summary for column 1 based on the samples and structure.\",\n",
    "                            \"column2_name\": \"Summary for column 2 based on the samples and structure.\"}\n",
    "                            \"\"\",\n",
    "                        \"type\": \"dict\"\n",
    "                    }\n",
    "                },\n",
    "                \"required\": [\"table_summary\"]\n",
    "            },\n",
    "        },\n",
    "        }\n",
    "    ]\n",
    "\n",
    "    role_setting = '''\n",
    "    Prompt: \"根据表格的结构和样本条目，总结表格的整体用途和每列存储的信息类型。为表格的总体用途生成一句详尽的总结，并为每一列创建一个详尽的总结字典。使用'save_summary'函数保存这些总结。\"\n",
    "\n",
    "\n",
    "任务:\n",
    "1. 分析表格结构，确定其预定功能。\n",
    "2. 查看样本条目，了解每一列存储的数据类型及其对表格功能的贡献。\n",
    "3. 生成表格目的的详尽单句总结。\n",
    "4. 创建一个字典，为每一列生成总结，说明基于结构和样本的信息类型。\n",
    "5. 使用'save_summary'工具将生成的总结保存到数据库中。\n",
    "\n",
    "工具:\n",
    "- save_summary: 将生成的总结保存到数据库中的函数。该函数需要表格的一句话总结和每一列的总结字典。\n",
    "\n",
    "预期输出:\n",
    "- 表格整体的一句话总结。\n",
    "- 包含每列总结的字典。\n",
    "- 成功执行'save_summary'函数以保存这些总结。\n",
    "\n",
    "确保总结的准确性和相关性以符合所提供的结构和样本数据，并遵守使用'save_summary'函数的所需格式和详细要求。\n",
    "\n",
    "      '''\n",
    "    messages = [{\"role\": \"system\",\"content\": role_setting}]\n",
    "    messages.append({\"role\": \"user\",\"content\": '数据表结构是：' + structure})\n",
    "    messages.append({\"role\": \"user\",\"content\": '表格样本条目是：' + samples})\n",
    "    \n",
    "    model_name = \"qwen-plus\" \n",
    "    response = QwenModel(api_key=api_key_qwen, model=model_name, temperature=0.2,tools=tools)\n",
    "    total_usage = 0\n",
    "    call_model(response, messages)\n",
    "    messages.append(response.message_to_append)\n",
    "    total_usage += response.total_tokens\n",
    "\n",
    "    max_loop_count = 10\n",
    "    loop_count = 0\n",
    "    while loop_count < max_loop_count and response.tool_calls:\n",
    "        args = response.function_args\n",
    "\n",
    "        if response.function_name == \"save_summary\":\n",
    "            try:\n",
    "                # function_result = save_summary(**json.loads(args))\n",
    "                return args\n",
    "            except Exception as e:\n",
    "                function_result = {\"error\": str(e)}\n",
    "\n",
    "        messages.append({\n",
    "            \"role\": \"tool\",\n",
    "            \"content\": f\"{function_result}\",\n",
    "            \"tool_call_id\":response.tool_calls['id']\n",
    "        })\n",
    "        \n",
    "        call_model(response, messages)\n",
    "        total_usage += response.total_tokens\n",
    "        messages.append(response.message_to_append)\n",
    "    return response.content\n"
   ]
  },
  {
   "cell_type": "code",
   "execution_count": 176,
   "metadata": {},
   "outputs": [],
   "source": [
    "import mysql.connector\n",
    "import json\n",
    "\n",
    "# 建立数据库连接\n",
    "connection = mysql.connector.connect(\n",
    "    host=\"gz-cdb-5scrcjb5.sql.tencentcdb.com\",\n",
    "    user=\"db\",\n",
    "    password=\"dbdb905905\",\n",
    "    database=\"sele\",\n",
    "    port=63432\n",
    ")\n",
    "\n",
    "def get_tables(cursor):\n",
    "    cursor.execute(\"SHOW TABLES\")\n",
    "    return [table[0] for table in cursor.fetchall()]\n",
    "\n",
    "def get_table_structure(cursor, table_name):\n",
    "    cursor.execute(f\"SHOW CREATE TABLE {table_name}\")\n",
    "    return cursor.fetchone()[1]\n",
    "\n",
    "def get_sample_data(cursor, table_name):\n",
    "    cursor.execute(f\"SELECT * FROM {table_name} LIMIT 5\")\n",
    "    rows = cursor.fetchall()\n",
    "    # 将行数据转换成字符串，以便传递给AI分析器\n",
    "    sample_str = \"\\n\".join([str(row) for row in rows])\n",
    "    return sample_str\n",
    "\n"
   ]
  },
  {
   "cell_type": "code",
   "execution_count": 177,
   "metadata": {},
   "outputs": [],
   "source": [
    "cursor = connection.cursor()\n",
    "tables = get_tables(cursor)\n",
    "results = []\n"
   ]
  },
  {
   "cell_type": "code",
   "execution_count": 184,
   "metadata": {},
   "outputs": [
    {
     "data": {
      "text/plain": [
       "'tender_key_detail'"
      ]
     },
     "execution_count": 184,
     "metadata": {},
     "output_type": "execute_result"
    }
   ],
   "source": [
    "tables[12]"
   ]
  },
  {
   "cell_type": "code",
   "execution_count": 185,
   "metadata": {},
   "outputs": [],
   "source": [
    "structure = get_table_structure(cursor, tables[12])\n",
    "samples = get_sample_data(cursor, tables[12])\n",
    "     "
   ]
  },
  {
   "cell_type": "code",
   "execution_count": 188,
   "metadata": {},
   "outputs": [],
   "source": [
    "result = table_sum_agent(structure,samples)"
   ]
  },
  {
   "cell_type": "code",
   "execution_count": 198,
   "metadata": {},
   "outputs": [],
   "source": [
    "def summary_formatter(table_summary,column_summaries):\n",
    "    return table_summary,column_summaries"
   ]
  },
  {
   "cell_type": "code",
   "execution_count": 193,
   "metadata": {},
   "outputs": [
    {
     "data": {
      "text/plain": [
       "{'table_summary': 'tender_key_detail表格用于存储招标项目的关键详细信息，包括投标价格、施工期限、施工面积、建设成本以及承包商的资质、资格等级、专业领域、项目经验等要求。',\n",
       " 'column_summaries': {'tender_id': '招标项目的唯一标识符',\n",
       "  'bid_price': '投标的价格',\n",
       "  'construction_duration': '施工的预计持续时间（单位：天）',\n",
       "  'construction_area': '施工区域的面积（可能为浮点数，表示不精确值）',\n",
       "  'construction_cost': '施工的总成本',\n",
       "  'qualification_type': '承包商需要具备的工程类型资质',\n",
       "  'qualification_level': '承包商的资质等级',\n",
       "  'qualification_profession': '承包商需要具备的专业领域',\n",
       "  'title_level': '项目负责人的职称',\n",
       "  'education': '项目负责人所需的学历',\n",
       "  'performance_requirements': '承包商以往的业绩要求',\n",
       "  'simultaneous_projects_limit': '承包商可同时承担的项目限制',\n",
       "  'qualification_profession_addition': '额外的资质或专业要求'}}"
      ]
     },
     "execution_count": 193,
     "metadata": {},
     "output_type": "execute_result"
    }
   ],
   "source": [
    "json.loads(result)"
   ]
  },
  {
   "cell_type": "code",
   "execution_count": 197,
   "metadata": {},
   "outputs": [
    {
     "data": {
      "text/plain": [
       "('tender_key_detail表格用于存储招标项目的关键详细信息，包括投标价格、施工期限、施工面积、建设成本以及承包商的资质、资格等级、专业领域、项目经验等要求。',\n",
       " {'tender_id': '招标项目的唯一标识符',\n",
       "  'bid_price': '投标的价格',\n",
       "  'construction_duration': '施工的预计持续时间（单位：天）',\n",
       "  'construction_area': '施工区域的面积（可能为浮点数，表示不精确值）',\n",
       "  'construction_cost': '施工的总成本',\n",
       "  'qualification_type': '承包商需要具备的工程类型资质',\n",
       "  'qualification_level': '承包商的资质等级',\n",
       "  'qualification_profession': '承包商需要具备的专业领域',\n",
       "  'title_level': '项目负责人的职称',\n",
       "  'education': '项目负责人所需的学历',\n",
       "  'performance_requirements': '承包商以往的业绩要求',\n",
       "  'simultaneous_projects_limit': '承包商可同时承担的项目限制',\n",
       "  'qualification_profession_addition': '额外的资质或专业要求'})"
      ]
     },
     "execution_count": 197,
     "metadata": {},
     "output_type": "execute_result"
    }
   ],
   "source": [
    "summary_formatter(**json.loads(result))"
   ]
  },
  {
   "cell_type": "code",
   "execution_count": 199,
   "metadata": {},
   "outputs": [],
   "source": [
    "\n",
    "\n",
    "def main():\n",
    "    cursor = connection.cursor()\n",
    "    tables = get_tables(cursor)\n",
    "    results = []\n",
    "\n",
    "    for table in tables:\n",
    "        structure = get_table_structure(cursor, table)\n",
    "        samples = get_sample_data(cursor, table)\n",
    "        response = table_sum_agent(structure, samples)\n",
    "        table_summary, columns_summary = summary_formatter(**json.loads(response))\n",
    "        results.append({\n",
    "            \"table\": table,\n",
    "            \"summary\": table_summary,\n",
    "            \"columns\": columns_summary\n",
    "        })\n",
    "\n",
    "    cursor.close()\n",
    "    connection.close()\n",
    "\n",
    "    # 将结果保存为JSON文件\n",
    "    with open('database_summary.json', 'w') as f:\n",
    "        json.dump(results, f, indent=4, ensure_ascii=False)\n",
    "\n",
    "if __name__ == \"__main__\":\n",
    "    main()\n"
   ]
  },
  {
   "cell_type": "code",
   "execution_count": null,
   "metadata": {},
   "outputs": [],
   "source": [
    "from langchain.vectorstores import Chroma\n",
    "from langchain.embeddings import OpenAIEmbeddings\n",
    "from langchain.text_splitter import CharacterTextSplitter\n",
    "import json\n",
    "\n",
    "# 假设已经有一个包含数据库所有表及其字段摘要的JSON文件\n",
    "with open('database_summary.json', 'r') as f:\n",
    "    database_summary = json.load(f)\n",
    "\n",
    "# 提取字段总结和对应的字段名\n",
    "field_summaries = []\n",
    "metadata_list = []\n",
    "\n",
    "for table in database_summary:\n",
    "    # 对表级总结的处理\n",
    "    field_summaries.append(table[\"summary\"])\n",
    "    metadata_list.append({\"field_name\": \"\", \"table_name\": table[\"table\"]})\n",
    "\n",
    "    # 对字段级总结的处理\n",
    "    for column_name, column_info in table[\"columns\"].items():\n",
    "        field_summaries.append(column_info[\"summary\"])\n",
    "        metadata_list.append({\"field_name\": column_name, \"table_name\": table[\"table\"]})\n",
    "\n",
    "# 初始化嵌入模型\n",
    "embeddings = OpenAIEmbeddings()\n",
    "\n",
    "# 对每个总结进行嵌入\n",
    "vecs = embeddings.embed_documents(field_summaries)\n",
    "\n",
    "# 初始化向量存储,并添加嵌入向量和元数据\n",
    "vector_store = Chroma.from_texts(field_summaries, vecs, metadatas=metadata_list)\n",
    "\n",
    "# 搜索\n",
    "query = \"我需要找到存储客户地址的字段\"\n",
    "results = vector_store.similarity_search(query, k=2)\n",
    "\n",
    "print(f\"相关字段名:\")\n",
    "for result in results:\n",
    "    metadata = result.metadata\n",
    "    if metadata[\"field_name\"]:  # 确保不显示表级总结\n",
    "        print(f\"{metadata['table_name']}.{metadata['field_name']}\")  # 显示表名和字段名\n"
   ]
  }
 ],
 "metadata": {
  "kernelspec": {
   "display_name": "tender",
   "language": "python",
   "name": "python3"
  },
  "language_info": {
   "codemirror_mode": {
    "name": "ipython",
    "version": 3
   },
   "file_extension": ".py",
   "mimetype": "text/x-python",
   "name": "python",
   "nbconvert_exporter": "python",
   "pygments_lexer": "ipython3",
   "version": "3.11.9"
  }
 },
 "nbformat": 4,
 "nbformat_minor": 2
}
