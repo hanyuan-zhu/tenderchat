{
 "cells": [
  {
   "cell_type": "code",
   "execution_count": 16,
   "metadata": {},
   "outputs": [],
   "source": [
    "from aiModel import QwenModel\n",
    "from utils import logger, execute_sql_query,table_details\n",
    "from config import api_key_qwen\n",
    "import time\n",
    "import json"
   ]
  },
  {
   "cell_type": "code",
   "execution_count": 10,
   "metadata": {},
   "outputs": [],
   "source": [
    "def call_model(llm, messages, max_retries=3):\n",
    "    for i in range(max_retries):\n",
    "        try:\n",
    "            return llm.call(messages)\n",
    "        except Exception as e:\n",
    "            if i < max_retries - 1: \n",
    "                logger.error('在发送请求时发生错误: %s', e)\n",
    "                time.sleep(2 ** i)\n",
    "            else: \n",
    "                raise\n",
    "\n"
   ]
  },
  {
   "cell_type": "code",
   "execution_count": 12,
   "metadata": {},
   "outputs": [],
   "source": [
    "def tables():\n",
    "    table_info ='''\n",
    "    \"核心数据库表概览\": {\n",
    "    \"tender_index\": \"汇总招标公告基本信息，涵盖公告名字、发布日期等关键字段，适合快速检索公告概览。\",\n",
    "    \"tender_key_detail\": \"集中存储招标公告中的重要细节，如价格范围、工期、面积、总造价及具体要求，用于满足对招标核心条件的查询。\",\n",
    "    \"tender_detail\": \"提供招标公告其他结构化信息补充，丰富tender_key_detail未涵盖的内容。\",\n",
    "    \"tender_detail_html\": \"保存招标公告原文HTML及来源信息，便于查阅原始公告或分析网页结构。\",\n",
    "    \"announcement_catalog\": \"公告类型分类，帮助按公告种类进行筛选。\",\n",
    "    \"announcement_labels\": \"为公告提供标签，支持通过标签快速定位。\",\n",
    "    \"company_qualification_type\": \"收录国家规定的资质类型官方名称列表，用于匹配用户提供的资质简称或模糊描述，提升查询准确性。\"\n",
    "    }'''\n",
    "    return table_info\n"
   ]
  },
  {
   "cell_type": "code",
   "execution_count": 31,
   "metadata": {},
   "outputs": [],
   "source": [
    "def QueryBuilder(user_input):\n",
    "    tools = [\n",
    "    {\n",
    "    \"type\": \"function\",\n",
    "    \"function\": {\n",
    "        \"name\": \"tables\",\n",
    "        \"description\": \"返回数据库中所有表的名称及简要信息。\",\n",
    "        \"parameters\": {\n",
    "            \"type\": \"object\",\n",
    "            \"properties\": {},\n",
    "            \"required\": []\n",
    "        },\n",
    "        }\n",
    "    },\n",
    "    {\n",
    "    \"type\": \"function\",\n",
    "    \"function\": {\n",
    "        \"name\": \"table_details\",\n",
    "        \"description\": \"查询表的详细架构和前几行数据。\",\n",
    "        \"parameters\": {\n",
    "            \"type\": \"object\",\n",
    "            \"properties\": {\n",
    "                \"tables\": {\n",
    "                    \"description\": \"表名列表，用于查询表的详细架构。如['table1', 'table2']\",\n",
    "                    \"type\": \"list\"\n",
    "                }\n",
    "            },\n",
    "            \"required\": [\"tables\"]\n",
    "        },\n",
    "        }\n",
    "    },\n",
    "\n",
    "    ]\n",
    "\n",
    "    role_setting = '''\n",
    "    **职责**：\n",
    "    - 接收用户问题。\n",
    "    - 使用给定的Tools来分析问题，确定相关数据库表和字段。\n",
    "    - 构建验证查询以获取表结构详情。\n",
    "    - 根据验证结果，构建最终的SQL查询语句。\n",
    "\n",
    "    **工作流程**:\n",
    "    1. **理解问题**: 分析用户提问，识别可能涉及的业务领域和数据需求。\n",
    "    2. **查询表信息**: 使用`tables` Tool 获取所有表的概览信息，以便初步筛选相关表。\n",
    "    3. **获取表详情**: 对于初步筛选出的表，使用`table_details` Tool 获取详细架构和样本数据，进一步确认字段的有效性和数据格式。\n",
    "    注意：\"table_details\" Tool 输入参数为表名列表，比如感兴趣的表名是\"table1\"和\"table2\"，则输入参数为[\"table1\", \"table2\"]。\n",
    "    4. **构建SQL查询**: 基于验证过的字段信息，构建一个逻辑清晰、针对性强的SQL查询语句。\n",
    "    5. **输出**: 向第二个AI代理(QueryExecutor & ResultInterpreter)传递构建好的SQL查询语句。\n",
    "\n",
    "    '''\n",
    "    \n",
    "    messages = [{\"role\": \"system\",\"content\": role_setting}]\n",
    "    messages.append({\"role\": \"user\",\"content\": '用户的问题是：' + user_input})\n",
    "    \n",
    "    \n",
    "    # model_name = \"glm-4\"\n",
    "    # llm = ZhipuModel(api_key=api_key_zhipu, model=model_name, temperature=0.9,tools=tools)\n",
    "    model_name = \"qwen-plus\" \n",
    "    llm = QwenModel(api_key=api_key_qwen, model=model_name, temperature=0.2,tools=tools)\n",
    "    logger.info('AI模型已初始化：%s', model_name)\n",
    "    total_usage = 0\n",
    "    # 下面的循环核心是执行response = llm.call(messages)，如果出现错误，等待一段时间后再次尝试，最多尝试3次\n",
    "    response = call_model(llm, messages)\n",
    "    messages.append(response.message)\n",
    "    total_usage += response.usage[\"total_tokens\"]\n",
    "    logger.info('AI模型已调用：%s', response.message['content'])\n",
    "\n",
    "    \n",
    "    max_loop_count = 10\n",
    "    loop_count = 0\n",
    "    while loop_count < max_loop_count and (\"tool_calls\" in response.message):\n",
    "        tool_call = response.message[\"tool_calls\"][0]\n",
    "        args = tool_call[\"function\"][\"arguments\"]\n",
    "        logger.info('处理工具调用：%s', tool_call[\"function\"][\"name\"])\n",
    "        logger.info('工具调用参数：%s', args)\n",
    "\n",
    "        \n",
    "        # 这部分处理tool call，即不同的工具名调用不同的函数\n",
    "        if tool_call[\"function\"][\"name\"] == \"tables\":\n",
    "            try:\n",
    "                function_result = tables()\n",
    "            except Exception as e:\n",
    "                function_result = {\"error\": str(e)}\n",
    "        elif tool_call[\"function\"][\"name\"] == \"table_details\":\n",
    "            try:\n",
    "                function_result = table_details(**json.loads(args))\n",
    "            except Exception as e:\n",
    "                function_result = {\"error\": str(e)}\n",
    "\n",
    "        \n",
    "        # 添加tool call的结果到 messages序列里。\n",
    "        messages.append({\n",
    "            \"role\": \"tool\",\n",
    "            \"content\": f\"{json.dumps(function_result)}\",\n",
    "            \"tool_call_id\":tool_call['id']\n",
    "        })\n",
    "        \n",
    "        logger.info('工具调用的结果是：%s', function_result)\n",
    "\n",
    "        \n",
    "        # 下面的循环核心是执行response = llm.call(messages)，如果出现错误，等待一段时间后再次尝试，最多尝试3次\n",
    "        response = call_model(llm, messages)\n",
    "        total_usage += response.usage[\"total_tokens\"]\n",
    "        messages.append(response.message)\n",
    "        logger.info('AI模型已再次调用，响应是：%s', response.message['content'])\n",
    "    logger.info('AI模型已完成，总共使用的token数：%s。模型名：%s。', total_usage, model_name)\n",
    "    return response.message"
   ]
  },
  {
   "cell_type": "code",
   "execution_count": 32,
   "metadata": {},
   "outputs": [],
   "source": [
    "result = QueryBuilder(\"项目面积最大的标是哪个\")"
   ]
  },
  {
   "cell_type": "code",
   "execution_count": 20,
   "metadata": {},
   "outputs": [
    {
     "name": "stdout",
     "output_type": "stream",
     "text": [
      "我正在努力获取表`tender_key_detail`的详细信息，但似乎我需要使用不同的方法来调用工具。在这个阶段，我无法确认表是否包含我们需要的字段。在这种情况下，我通常会假设表中有“area”和标识项目的关键字段，如“project_id”或“project_name”。然而，为了提供准确的SQL查询，我确实需要知道这些字段是否存在。如果可以，能否提供关于表`tender_key_detail`结构的更多信息，或者确认包含面积和项目标识的字段名称？\n"
     ]
    }
   ],
   "source": [
    "print(result)"
   ]
  }
 ],
 "metadata": {
  "kernelspec": {
   "display_name": "tender",
   "language": "python",
   "name": "python3"
  },
  "language_info": {
   "codemirror_mode": {
    "name": "ipython",
    "version": 3
   },
   "file_extension": ".py",
   "mimetype": "text/x-python",
   "name": "python",
   "nbconvert_exporter": "python",
   "pygments_lexer": "ipython3",
   "version": "3.11.9"
  }
 },
 "nbformat": 4,
 "nbformat_minor": 2
}
